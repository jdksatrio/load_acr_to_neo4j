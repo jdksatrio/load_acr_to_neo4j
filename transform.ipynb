{
 "cells": [
  {
   "cell_type": "code",
   "execution_count": 2,
   "id": "fca9a487",
   "metadata": {},
   "outputs": [],
   "source": [
    "import pandas as pd\n",
    "\n",
    "pq_dev = pd.read_parquet('./acr-appro-3opts-v2/data/dev-00000-of-00001.parquet')\n",
    "pq_test = pd.read_parquet('./acr-appro-3opts-v2/data/test-00000-of-00001.parquet')\n",
    "pq_train = pd.read_parquet('./acr-appro-3opts-v2/data/train-00000-of-00001.parquet')\n",
    "\n",
    "pq_complete = pd.concat([pq_dev, pq_test, pq_train], ignore_index=True)"
   ]
  },
  {
   "cell_type": "code",
   "execution_count": 16,
   "id": "16dc239d",
   "metadata": {},
   "outputs": [],
   "source": [
    "pq_complete.to_csv('acr.csv',sep='|', index=False)"
   ]
  },
  {
   "cell_type": "markdown",
   "id": "f07d5eb7",
   "metadata": {},
   "source": [
    "Condition"
   ]
  },
  {
   "cell_type": "code",
   "execution_count": 18,
   "id": "33232a83",
   "metadata": {},
   "outputs": [
    {
     "data": {
      "text/html": [
       "<div>\n",
       "<style scoped>\n",
       "    .dataframe tbody tr th:only-of-type {\n",
       "        vertical-align: middle;\n",
       "    }\n",
       "\n",
       "    .dataframe tbody tr th {\n",
       "        vertical-align: top;\n",
       "    }\n",
       "\n",
       "    .dataframe thead th {\n",
       "        text-align: right;\n",
       "    }\n",
       "</style>\n",
       "<table border=\"1\" class=\"dataframe\">\n",
       "  <thead>\n",
       "    <tr style=\"text-align: right;\">\n",
       "      <th></th>\n",
       "      <th>Condition</th>\n",
       "    </tr>\n",
       "  </thead>\n",
       "  <tbody>\n",
       "    <tr>\n",
       "      <th>0</th>\n",
       "      <td>Sinonasal Disease</td>\n",
       "    </tr>\n",
       "    <tr>\n",
       "      <th>1</th>\n",
       "      <td>Left Lower Quadrant Pain</td>\n",
       "    </tr>\n",
       "    <tr>\n",
       "      <th>2</th>\n",
       "      <td>Acute Respiratory Illness in Immunocompetent P...</td>\n",
       "    </tr>\n",
       "    <tr>\n",
       "      <th>3</th>\n",
       "      <td>Acute Respiratory Illness in Immunocompetent P...</td>\n",
       "    </tr>\n",
       "    <tr>\n",
       "      <th>4</th>\n",
       "      <td>Acute Respiratory Illness in Immunocompromised...</td>\n",
       "    </tr>\n",
       "  </tbody>\n",
       "</table>\n",
       "</div>"
      ],
      "text/plain": [
       "                                           Condition\n",
       "0                                  Sinonasal Disease\n",
       "1                           Left Lower Quadrant Pain\n",
       "2  Acute Respiratory Illness in Immunocompetent P...\n",
       "3  Acute Respiratory Illness in Immunocompetent P...\n",
       "4  Acute Respiratory Illness in Immunocompromised..."
      ]
     },
     "execution_count": 18,
     "metadata": {},
     "output_type": "execute_result"
    }
   ],
   "source": [
    "condition = pq_complete[['Condition']]\n",
    "condition.head()"
   ]
  },
  {
   "cell_type": "code",
   "execution_count": 19,
   "id": "58b4c917",
   "metadata": {},
   "outputs": [],
   "source": [
    "condition.to_csv('./load/condition.csv',sep='|',index=False)"
   ]
  },
  {
   "cell_type": "markdown",
   "id": "ab6574b0",
   "metadata": {},
   "source": [
    "Variant"
   ]
  },
  {
   "cell_type": "code",
   "execution_count": 26,
   "id": "dec2d5ba",
   "metadata": {},
   "outputs": [],
   "source": [
    "variant = pq_complete[['Condition','Variant']].sort_values(by='Condition')\n",
    "variant.to_csv('./load/variants.csv',sep='|',index=False)"
   ]
  },
  {
   "cell_type": "markdown",
   "id": "c1aeeb2e",
   "metadata": {},
   "source": [
    "Procedure"
   ]
  },
  {
   "cell_type": "code",
   "execution_count": 28,
   "id": "8d64c82d",
   "metadata": {},
   "outputs": [],
   "source": [
    "procedure = pq_complete[['Variant','Procedure','Appropriateness Category','Adult RRL (scale)','Adult RRL (dosage)','Peds RRL (scale)','Peds RRL (dosage)']]\n",
    "procedure.to_csv('./load/variant_proc.csv',sep='|',index=False)"
   ]
  },
  {
   "cell_type": "code",
   "execution_count": null,
   "id": "1b338f68",
   "metadata": {},
   "outputs": [],
   "source": []
  }
 ],
 "metadata": {
  "kernelspec": {
   "display_name": "base",
   "language": "python",
   "name": "python3"
  },
  "language_info": {
   "codemirror_mode": {
    "name": "ipython",
    "version": 3
   },
   "file_extension": ".py",
   "mimetype": "text/x-python",
   "name": "python",
   "nbconvert_exporter": "python",
   "pygments_lexer": "ipython3",
   "version": "3.11.10"
  }
 },
 "nbformat": 4,
 "nbformat_minor": 5
}
